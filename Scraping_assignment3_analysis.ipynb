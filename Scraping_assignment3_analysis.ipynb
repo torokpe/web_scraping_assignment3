{
 "cells": [
  {
   "cell_type": "markdown",
   "metadata": {},
   "source": [
    "<div align=\"center\">\n",
    "    <h1>Web Scraping - Assignment 3. (Analysis)</h1>\n",
    "</div>\n",
    "\n",
    "### **Author:** Péter Bence Török\n",
    "\n",
    "###  **CEU ID:** 2404748"
   ]
  },
  {
   "cell_type": "markdown",
   "metadata": {},
   "source": [
    "### 1. Data cleaing"
   ]
  },
  {
   "cell_type": "code",
   "execution_count": 18,
   "metadata": {},
   "outputs": [],
   "source": [
    "# Importing required python modules\n",
    "import pandas as pd\n",
    "import statsmodels.formula.api as smf\n",
    "import warnings\n",
    "warnings.filterwarnings(\"ignore\")\n",
    "import plotly.express as px"
   ]
  },
  {
   "cell_type": "code",
   "execution_count": 19,
   "metadata": {},
   "outputs": [],
   "source": [
    "# Importing .csv file from Github\n",
    "df = pd.read_csv('https://raw.githubusercontent.com/torokpe/web_scraping_assignment3/refs/heads/main/solar_panels.csv')"
   ]
  },
  {
   "cell_type": "code",
   "execution_count": 21,
   "metadata": {},
   "outputs": [],
   "source": [
    "# Rename columns to use more consistent and descriptive names\n",
    "df.rename(columns={\n",
    "    'Price': 'Price($/Wp)',  # Standardize price column name\n",
    "    'Panel Efficiency': 'Panel_Efficiency',  # Replace spaces with underscores\n",
    "    'Maximum Power (Pmax)': 'Maximum_Power(Pmax)',  # Standardize Pmax column\n",
    "    'Voltage at Maximum Power (Vmpp)': 'Voltage_at_Maximum_Power(Vmpp)'  # Standardize Vmpp column\n",
    "}, inplace=True)\n",
    "\n",
    "# Remove duplicate rows based on 'Technology' and 'Product_family' columns\n",
    "df.drop_duplicates(subset=['Technology', 'Product_family'], inplace=True)\n",
    "\n",
    "# Drop rows with any missing values to ensure data completeness\n",
    "df = df.dropna()\n",
    "\n",
    "# Clean and standardize the 'Price($/Wp)' column:\n",
    "# Remove currency symbols like € and $ from the strings\n",
    "df['Price($/Wp)'] = df['Price($/Wp)'].str.replace(r'[€$]', '', regex=True)\n",
    "# Convert the cleaned strings to numeric values, coercing errors to NaN\n",
    "df['Price($/Wp)'] = pd.to_numeric(df['Price($/Wp)'], errors='coerce')\n",
    "\n",
    "# Clean and standardize the 'Maximum_Power(Pmax)' column:\n",
    "# Remove 'Wp' units from the strings\n",
    "df['Maximum_Power(Pmax)'] = df['Maximum_Power(Pmax)'].str.replace('Wp', '', regex=True)\n",
    "\n",
    "# Clean and standardize the 'Voltage_at_Maximum_Power(Vmpp)' column:\n",
    "# Remove 'V' units from the strings\n",
    "df['Voltage_at_Maximum_Power(Vmpp)'] = df['Voltage_at_Maximum_Power(Vmpp)'].str.replace('V', '', regex=True)\n",
    "\n",
    "# Clean and standardize the 'Panel_Efficiency' column:\n",
    "# Remove '%' symbols from the strings\n",
    "df['Panel_Efficiency'] = df['Panel_Efficiency'].str.replace('%', '', regex=True)\n",
    "# Convert the cleaned efficiency values to numeric format, coercing errors to NaN\n",
    "df['Panel_Efficiency'] = pd.to_numeric(df['Panel_Efficiency'], errors='coerce')\n",
    "\n",
    "# Convert the cleaned 'Maximum_Power(Pmax)' column to numeric format, coercing errors to NaN\n",
    "df['Maximum_Power(Pmax)'] = pd.to_numeric(df['Maximum_Power(Pmax)'], errors='coerce')\n",
    "\n",
    "# Filter out rows where the 'Technology' column equals 'Back Contact, BIPV, N-type'\n",
    "df = df[df['Technology'] != 'Back Contact, BIPV, N-type']\n",
    "\n",
    "# Convert the cleaned 'Voltage_at_Maximum_Power(Vmpp)' column to numeric format, coercing errors to NaN\n",
    "df['Voltage_at_Maximum_Power(Vmpp)'] = pd.to_numeric(df['Voltage_at_Maximum_Power(Vmpp)'], errors='coerce')"
   ]
  },
  {
   "cell_type": "markdown",
   "metadata": {},
   "source": [
    "### 2. Analysis"
   ]
  },
  {
   "cell_type": "code",
   "execution_count": 22,
   "metadata": {},
   "outputs": [
    {
     "data": {
      "text/html": [
       "<div>\n",
       "<style scoped>\n",
       "    .dataframe tbody tr th:only-of-type {\n",
       "        vertical-align: middle;\n",
       "    }\n",
       "\n",
       "    .dataframe tbody tr th {\n",
       "        vertical-align: top;\n",
       "    }\n",
       "\n",
       "    .dataframe thead th {\n",
       "        text-align: right;\n",
       "    }\n",
       "</style>\n",
       "<table border=\"1\" class=\"dataframe\">\n",
       "  <thead>\n",
       "    <tr style=\"text-align: right;\">\n",
       "      <th></th>\n",
       "      <th>Technology</th>\n",
       "      <th>Panel_Efficiency</th>\n",
       "      <th>Price($/Wp)</th>\n",
       "      <th>Voltage_at_Maximum_Power(Vmpp)</th>\n",
       "      <th>Maximum_Power(Pmax)</th>\n",
       "    </tr>\n",
       "  </thead>\n",
       "  <tbody>\n",
       "    <tr>\n",
       "      <th>1</th>\n",
       "      <td>Back Contact, Flexible</td>\n",
       "      <td>25.400000</td>\n",
       "      <td>0.815000</td>\n",
       "      <td>20.100000</td>\n",
       "      <td>120.000000</td>\n",
       "    </tr>\n",
       "    <tr>\n",
       "      <th>2</th>\n",
       "      <td>Back Contact, N-type</td>\n",
       "      <td>22.800000</td>\n",
       "      <td>0.176000</td>\n",
       "      <td>34.560000</td>\n",
       "      <td>455.000000</td>\n",
       "    </tr>\n",
       "    <tr>\n",
       "      <th>13</th>\n",
       "      <td>Bifacial, TOPCon, HJT</td>\n",
       "      <td>22.790000</td>\n",
       "      <td>0.095900</td>\n",
       "      <td>35.380000</td>\n",
       "      <td>445.000000</td>\n",
       "    </tr>\n",
       "    <tr>\n",
       "      <th>15</th>\n",
       "      <td>Bifacial, TOPCon, N-type</td>\n",
       "      <td>22.696000</td>\n",
       "      <td>0.121660</td>\n",
       "      <td>35.807000</td>\n",
       "      <td>519.750000</td>\n",
       "    </tr>\n",
       "    <tr>\n",
       "      <th>20</th>\n",
       "      <td>N-type</td>\n",
       "      <td>22.566000</td>\n",
       "      <td>0.077900</td>\n",
       "      <td>38.228000</td>\n",
       "      <td>553.000000</td>\n",
       "    </tr>\n",
       "    <tr>\n",
       "      <th>5</th>\n",
       "      <td>Bifacial, HJT</td>\n",
       "      <td>22.555455</td>\n",
       "      <td>0.098609</td>\n",
       "      <td>42.044545</td>\n",
       "      <td>647.727273</td>\n",
       "    </tr>\n",
       "    <tr>\n",
       "      <th>22</th>\n",
       "      <td>PERC, Flexible</td>\n",
       "      <td>22.500000</td>\n",
       "      <td>0.574091</td>\n",
       "      <td>23.454545</td>\n",
       "      <td>225.000000</td>\n",
       "    </tr>\n",
       "    <tr>\n",
       "      <th>18</th>\n",
       "      <td>HJT, Bifacial</td>\n",
       "      <td>22.486667</td>\n",
       "      <td>0.088133</td>\n",
       "      <td>40.686667</td>\n",
       "      <td>678.333333</td>\n",
       "    </tr>\n",
       "    <tr>\n",
       "      <th>6</th>\n",
       "      <td>Bifacial, N-type</td>\n",
       "      <td>22.446667</td>\n",
       "      <td>0.105371</td>\n",
       "      <td>40.260000</td>\n",
       "      <td>582.142857</td>\n",
       "    </tr>\n",
       "    <tr>\n",
       "      <th>11</th>\n",
       "      <td>Bifacial, TOPCon</td>\n",
       "      <td>22.183582</td>\n",
       "      <td>0.146501</td>\n",
       "      <td>38.332537</td>\n",
       "      <td>540.522388</td>\n",
       "    </tr>\n",
       "    <tr>\n",
       "      <th>26</th>\n",
       "      <td>TOPCon</td>\n",
       "      <td>22.067346</td>\n",
       "      <td>0.123174</td>\n",
       "      <td>37.198205</td>\n",
       "      <td>508.076923</td>\n",
       "    </tr>\n",
       "    <tr>\n",
       "      <th>29</th>\n",
       "      <td>TOPCon, N-type</td>\n",
       "      <td>21.970556</td>\n",
       "      <td>0.101256</td>\n",
       "      <td>37.282778</td>\n",
       "      <td>490.277778</td>\n",
       "    </tr>\n",
       "    <tr>\n",
       "      <th>19</th>\n",
       "      <td>HJT, TOPCon</td>\n",
       "      <td>21.860000</td>\n",
       "      <td>0.073800</td>\n",
       "      <td>42.560000</td>\n",
       "      <td>565.000000</td>\n",
       "    </tr>\n",
       "    <tr>\n",
       "      <th>14</th>\n",
       "      <td>Bifacial, TOPCon, HJT, N-type</td>\n",
       "      <td>21.754000</td>\n",
       "      <td>0.047760</td>\n",
       "      <td>35.520000</td>\n",
       "      <td>548.000000</td>\n",
       "    </tr>\n",
       "    <tr>\n",
       "      <th>24</th>\n",
       "      <td>PERC, TOPCon, HJT, N-type</td>\n",
       "      <td>21.520000</td>\n",
       "      <td>0.045700</td>\n",
       "      <td>32.580000</td>\n",
       "      <td>430.000000</td>\n",
       "    </tr>\n",
       "    <tr>\n",
       "      <th>12</th>\n",
       "      <td>Bifacial, TOPCon, BIPV</td>\n",
       "      <td>21.510000</td>\n",
       "      <td>0.086000</td>\n",
       "      <td>31.690000</td>\n",
       "      <td>420.000000</td>\n",
       "    </tr>\n",
       "    <tr>\n",
       "      <th>10</th>\n",
       "      <td>Bifacial, PERC, TOPCon, N-type</td>\n",
       "      <td>21.300000</td>\n",
       "      <td>0.046300</td>\n",
       "      <td>41.960000</td>\n",
       "      <td>580.000000</td>\n",
       "    </tr>\n",
       "    <tr>\n",
       "      <th>17</th>\n",
       "      <td>HJT</td>\n",
       "      <td>21.238571</td>\n",
       "      <td>0.370757</td>\n",
       "      <td>30.451429</td>\n",
       "      <td>448.571429</td>\n",
       "    </tr>\n",
       "    <tr>\n",
       "      <th>0</th>\n",
       "      <td>Back Contact</td>\n",
       "      <td>21.198000</td>\n",
       "      <td>0.266800</td>\n",
       "      <td>27.600000</td>\n",
       "      <td>304.000000</td>\n",
       "    </tr>\n",
       "    <tr>\n",
       "      <th>25</th>\n",
       "      <td>PERC, TOPCon, N-type</td>\n",
       "      <td>21.000000</td>\n",
       "      <td>0.049600</td>\n",
       "      <td>34.200000</td>\n",
       "      <td>595.000000</td>\n",
       "    </tr>\n",
       "    <tr>\n",
       "      <th>3</th>\n",
       "      <td>Bifacial</td>\n",
       "      <td>20.990392</td>\n",
       "      <td>0.104098</td>\n",
       "      <td>36.983077</td>\n",
       "      <td>506.250000</td>\n",
       "    </tr>\n",
       "    <tr>\n",
       "      <th>4</th>\n",
       "      <td>Bifacial, Back Contact</td>\n",
       "      <td>20.900000</td>\n",
       "      <td>0.196500</td>\n",
       "      <td>41.575000</td>\n",
       "      <td>497.500000</td>\n",
       "    </tr>\n",
       "    <tr>\n",
       "      <th>7</th>\n",
       "      <td>Bifacial, PERC</td>\n",
       "      <td>20.882667</td>\n",
       "      <td>0.104423</td>\n",
       "      <td>37.945667</td>\n",
       "      <td>540.500000</td>\n",
       "    </tr>\n",
       "    <tr>\n",
       "      <th>16</th>\n",
       "      <td>Flexible</td>\n",
       "      <td>20.803333</td>\n",
       "      <td>0.610571</td>\n",
       "      <td>25.260000</td>\n",
       "      <td>193.228571</td>\n",
       "    </tr>\n",
       "    <tr>\n",
       "      <th>8</th>\n",
       "      <td>Bifacial, PERC, Flexible</td>\n",
       "      <td>20.795000</td>\n",
       "      <td>0.100000</td>\n",
       "      <td>29.675714</td>\n",
       "      <td>287.142857</td>\n",
       "    </tr>\n",
       "    <tr>\n",
       "      <th>21</th>\n",
       "      <td>PERC</td>\n",
       "      <td>20.671268</td>\n",
       "      <td>0.137330</td>\n",
       "      <td>35.854375</td>\n",
       "      <td>456.049097</td>\n",
       "    </tr>\n",
       "    <tr>\n",
       "      <th>28</th>\n",
       "      <td>TOPCon, HJT, N-type</td>\n",
       "      <td>20.500000</td>\n",
       "      <td>0.048800</td>\n",
       "      <td>32.460000</td>\n",
       "      <td>490.000000</td>\n",
       "    </tr>\n",
       "    <tr>\n",
       "      <th>23</th>\n",
       "      <td>PERC, HJT</td>\n",
       "      <td>20.450000</td>\n",
       "      <td>0.000830</td>\n",
       "      <td>41.160000</td>\n",
       "      <td>455.000000</td>\n",
       "    </tr>\n",
       "    <tr>\n",
       "      <th>9</th>\n",
       "      <td>Bifacial, PERC, TOPCon, Back Contact</td>\n",
       "      <td>20.140000</td>\n",
       "      <td>0.095900</td>\n",
       "      <td>41.100000</td>\n",
       "      <td>445.000000</td>\n",
       "    </tr>\n",
       "    <tr>\n",
       "      <th>27</th>\n",
       "      <td>TOPCon, BIPV</td>\n",
       "      <td>19.970000</td>\n",
       "      <td>0.198000</td>\n",
       "      <td>32.150000</td>\n",
       "      <td>390.000000</td>\n",
       "    </tr>\n",
       "  </tbody>\n",
       "</table>\n",
       "</div>"
      ],
      "text/plain": [
       "                              Technology  Panel_Efficiency  Price($/Wp)  \\\n",
       "1                 Back Contact, Flexible         25.400000     0.815000   \n",
       "2                   Back Contact, N-type         22.800000     0.176000   \n",
       "13                 Bifacial, TOPCon, HJT         22.790000     0.095900   \n",
       "15              Bifacial, TOPCon, N-type         22.696000     0.121660   \n",
       "20                                N-type         22.566000     0.077900   \n",
       "5                          Bifacial, HJT         22.555455     0.098609   \n",
       "22                        PERC, Flexible         22.500000     0.574091   \n",
       "18                         HJT, Bifacial         22.486667     0.088133   \n",
       "6                       Bifacial, N-type         22.446667     0.105371   \n",
       "11                      Bifacial, TOPCon         22.183582     0.146501   \n",
       "26                                TOPCon         22.067346     0.123174   \n",
       "29                        TOPCon, N-type         21.970556     0.101256   \n",
       "19                           HJT, TOPCon         21.860000     0.073800   \n",
       "14         Bifacial, TOPCon, HJT, N-type         21.754000     0.047760   \n",
       "24             PERC, TOPCon, HJT, N-type         21.520000     0.045700   \n",
       "12                Bifacial, TOPCon, BIPV         21.510000     0.086000   \n",
       "10        Bifacial, PERC, TOPCon, N-type         21.300000     0.046300   \n",
       "17                                   HJT         21.238571     0.370757   \n",
       "0                           Back Contact         21.198000     0.266800   \n",
       "25                  PERC, TOPCon, N-type         21.000000     0.049600   \n",
       "3                               Bifacial         20.990392     0.104098   \n",
       "4                 Bifacial, Back Contact         20.900000     0.196500   \n",
       "7                         Bifacial, PERC         20.882667     0.104423   \n",
       "16                              Flexible         20.803333     0.610571   \n",
       "8               Bifacial, PERC, Flexible         20.795000     0.100000   \n",
       "21                                  PERC         20.671268     0.137330   \n",
       "28                   TOPCon, HJT, N-type         20.500000     0.048800   \n",
       "23                             PERC, HJT         20.450000     0.000830   \n",
       "9   Bifacial, PERC, TOPCon, Back Contact         20.140000     0.095900   \n",
       "27                          TOPCon, BIPV         19.970000     0.198000   \n",
       "\n",
       "    Voltage_at_Maximum_Power(Vmpp)  Maximum_Power(Pmax)  \n",
       "1                        20.100000           120.000000  \n",
       "2                        34.560000           455.000000  \n",
       "13                       35.380000           445.000000  \n",
       "15                       35.807000           519.750000  \n",
       "20                       38.228000           553.000000  \n",
       "5                        42.044545           647.727273  \n",
       "22                       23.454545           225.000000  \n",
       "18                       40.686667           678.333333  \n",
       "6                        40.260000           582.142857  \n",
       "11                       38.332537           540.522388  \n",
       "26                       37.198205           508.076923  \n",
       "29                       37.282778           490.277778  \n",
       "19                       42.560000           565.000000  \n",
       "14                       35.520000           548.000000  \n",
       "24                       32.580000           430.000000  \n",
       "12                       31.690000           420.000000  \n",
       "10                       41.960000           580.000000  \n",
       "17                       30.451429           448.571429  \n",
       "0                        27.600000           304.000000  \n",
       "25                       34.200000           595.000000  \n",
       "3                        36.983077           506.250000  \n",
       "4                        41.575000           497.500000  \n",
       "7                        37.945667           540.500000  \n",
       "16                       25.260000           193.228571  \n",
       "8                        29.675714           287.142857  \n",
       "21                       35.854375           456.049097  \n",
       "28                       32.460000           490.000000  \n",
       "23                       41.160000           455.000000  \n",
       "9                        41.100000           445.000000  \n",
       "27                       32.150000           390.000000  "
      ]
     },
     "execution_count": 22,
     "metadata": {},
     "output_type": "execute_result"
    }
   ],
   "source": [
    "# Cheking key analytical results results\n",
    "df.groupby('Technology', as_index=False).agg({'Panel_Efficiency': 'mean', 'Price($/Wp)': 'mean', 'Voltage_at_Maximum_Power(Vmpp)': 'mean','Maximum_Power(Pmax)': 'mean' }).sort_values('Panel_Efficiency', ascending=False)"
   ]
  },
  {
   "cell_type": "code",
   "execution_count": 23,
   "metadata": {},
   "outputs": [
    {
     "data": {
      "application/vnd.plotly.v1+json": {
       "config": {
        "plotlyServerURL": "https://plot.ly"
       },
       "data": [
        {
         "alignmentgroup": "True",
         "hovertemplate": "Solar Panel Technology=%{x}<br>Panel Efficiency=%{y}<br>text=%{text}<extra></extra>",
         "legendgroup": "",
         "marker": {
          "color": "orange",
          "pattern": {
           "shape": ""
          }
         },
         "name": "",
         "offsetgroup": "",
         "orientation": "v",
         "showlegend": false,
         "text": [
          "25.40%",
          "22.80%",
          "22.56%",
          "22.79%",
          "22.70%",
          "22.57%",
          "21.36%"
         ],
         "textposition": "outside",
         "type": "bar",
         "x": [
          "Back Contact, Flexible",
          "Back Contact, N-type",
          "Bifacial, HJT",
          "Bifacial, TOPCon, HJT",
          "Bifacial, TOPCon, N-type",
          "N-type",
          "Other"
         ],
         "xaxis": "x",
         "y": [
          25.4,
          22.8,
          22.555454545454545,
          22.79,
          22.696,
          22.566,
          21.35529424778761
         ],
         "yaxis": "y"
        }
       ],
       "layout": {
        "barmode": "relative",
        "height": 700,
        "legend": {
         "tracegroupgap": 0
        },
        "plot_bgcolor": "white",
        "template": {
         "data": {
          "bar": [
           {
            "error_x": {
             "color": "#2a3f5f"
            },
            "error_y": {
             "color": "#2a3f5f"
            },
            "marker": {
             "line": {
              "color": "#E5ECF6",
              "width": 0.5
             },
             "pattern": {
              "fillmode": "overlay",
              "size": 10,
              "solidity": 0.2
             }
            },
            "type": "bar"
           }
          ],
          "barpolar": [
           {
            "marker": {
             "line": {
              "color": "#E5ECF6",
              "width": 0.5
             },
             "pattern": {
              "fillmode": "overlay",
              "size": 10,
              "solidity": 0.2
             }
            },
            "type": "barpolar"
           }
          ],
          "carpet": [
           {
            "aaxis": {
             "endlinecolor": "#2a3f5f",
             "gridcolor": "white",
             "linecolor": "white",
             "minorgridcolor": "white",
             "startlinecolor": "#2a3f5f"
            },
            "baxis": {
             "endlinecolor": "#2a3f5f",
             "gridcolor": "white",
             "linecolor": "white",
             "minorgridcolor": "white",
             "startlinecolor": "#2a3f5f"
            },
            "type": "carpet"
           }
          ],
          "choropleth": [
           {
            "colorbar": {
             "outlinewidth": 0,
             "ticks": ""
            },
            "type": "choropleth"
           }
          ],
          "contour": [
           {
            "colorbar": {
             "outlinewidth": 0,
             "ticks": ""
            },
            "colorscale": [
             [
              0,
              "#0d0887"
             ],
             [
              0.1111111111111111,
              "#46039f"
             ],
             [
              0.2222222222222222,
              "#7201a8"
             ],
             [
              0.3333333333333333,
              "#9c179e"
             ],
             [
              0.4444444444444444,
              "#bd3786"
             ],
             [
              0.5555555555555556,
              "#d8576b"
             ],
             [
              0.6666666666666666,
              "#ed7953"
             ],
             [
              0.7777777777777778,
              "#fb9f3a"
             ],
             [
              0.8888888888888888,
              "#fdca26"
             ],
             [
              1,
              "#f0f921"
             ]
            ],
            "type": "contour"
           }
          ],
          "contourcarpet": [
           {
            "colorbar": {
             "outlinewidth": 0,
             "ticks": ""
            },
            "type": "contourcarpet"
           }
          ],
          "heatmap": [
           {
            "colorbar": {
             "outlinewidth": 0,
             "ticks": ""
            },
            "colorscale": [
             [
              0,
              "#0d0887"
             ],
             [
              0.1111111111111111,
              "#46039f"
             ],
             [
              0.2222222222222222,
              "#7201a8"
             ],
             [
              0.3333333333333333,
              "#9c179e"
             ],
             [
              0.4444444444444444,
              "#bd3786"
             ],
             [
              0.5555555555555556,
              "#d8576b"
             ],
             [
              0.6666666666666666,
              "#ed7953"
             ],
             [
              0.7777777777777778,
              "#fb9f3a"
             ],
             [
              0.8888888888888888,
              "#fdca26"
             ],
             [
              1,
              "#f0f921"
             ]
            ],
            "type": "heatmap"
           }
          ],
          "heatmapgl": [
           {
            "colorbar": {
             "outlinewidth": 0,
             "ticks": ""
            },
            "colorscale": [
             [
              0,
              "#0d0887"
             ],
             [
              0.1111111111111111,
              "#46039f"
             ],
             [
              0.2222222222222222,
              "#7201a8"
             ],
             [
              0.3333333333333333,
              "#9c179e"
             ],
             [
              0.4444444444444444,
              "#bd3786"
             ],
             [
              0.5555555555555556,
              "#d8576b"
             ],
             [
              0.6666666666666666,
              "#ed7953"
             ],
             [
              0.7777777777777778,
              "#fb9f3a"
             ],
             [
              0.8888888888888888,
              "#fdca26"
             ],
             [
              1,
              "#f0f921"
             ]
            ],
            "type": "heatmapgl"
           }
          ],
          "histogram": [
           {
            "marker": {
             "pattern": {
              "fillmode": "overlay",
              "size": 10,
              "solidity": 0.2
             }
            },
            "type": "histogram"
           }
          ],
          "histogram2d": [
           {
            "colorbar": {
             "outlinewidth": 0,
             "ticks": ""
            },
            "colorscale": [
             [
              0,
              "#0d0887"
             ],
             [
              0.1111111111111111,
              "#46039f"
             ],
             [
              0.2222222222222222,
              "#7201a8"
             ],
             [
              0.3333333333333333,
              "#9c179e"
             ],
             [
              0.4444444444444444,
              "#bd3786"
             ],
             [
              0.5555555555555556,
              "#d8576b"
             ],
             [
              0.6666666666666666,
              "#ed7953"
             ],
             [
              0.7777777777777778,
              "#fb9f3a"
             ],
             [
              0.8888888888888888,
              "#fdca26"
             ],
             [
              1,
              "#f0f921"
             ]
            ],
            "type": "histogram2d"
           }
          ],
          "histogram2dcontour": [
           {
            "colorbar": {
             "outlinewidth": 0,
             "ticks": ""
            },
            "colorscale": [
             [
              0,
              "#0d0887"
             ],
             [
              0.1111111111111111,
              "#46039f"
             ],
             [
              0.2222222222222222,
              "#7201a8"
             ],
             [
              0.3333333333333333,
              "#9c179e"
             ],
             [
              0.4444444444444444,
              "#bd3786"
             ],
             [
              0.5555555555555556,
              "#d8576b"
             ],
             [
              0.6666666666666666,
              "#ed7953"
             ],
             [
              0.7777777777777778,
              "#fb9f3a"
             ],
             [
              0.8888888888888888,
              "#fdca26"
             ],
             [
              1,
              "#f0f921"
             ]
            ],
            "type": "histogram2dcontour"
           }
          ],
          "mesh3d": [
           {
            "colorbar": {
             "outlinewidth": 0,
             "ticks": ""
            },
            "type": "mesh3d"
           }
          ],
          "parcoords": [
           {
            "line": {
             "colorbar": {
              "outlinewidth": 0,
              "ticks": ""
             }
            },
            "type": "parcoords"
           }
          ],
          "pie": [
           {
            "automargin": true,
            "type": "pie"
           }
          ],
          "scatter": [
           {
            "fillpattern": {
             "fillmode": "overlay",
             "size": 10,
             "solidity": 0.2
            },
            "type": "scatter"
           }
          ],
          "scatter3d": [
           {
            "line": {
             "colorbar": {
              "outlinewidth": 0,
              "ticks": ""
             }
            },
            "marker": {
             "colorbar": {
              "outlinewidth": 0,
              "ticks": ""
             }
            },
            "type": "scatter3d"
           }
          ],
          "scattercarpet": [
           {
            "marker": {
             "colorbar": {
              "outlinewidth": 0,
              "ticks": ""
             }
            },
            "type": "scattercarpet"
           }
          ],
          "scattergeo": [
           {
            "marker": {
             "colorbar": {
              "outlinewidth": 0,
              "ticks": ""
             }
            },
            "type": "scattergeo"
           }
          ],
          "scattergl": [
           {
            "marker": {
             "colorbar": {
              "outlinewidth": 0,
              "ticks": ""
             }
            },
            "type": "scattergl"
           }
          ],
          "scattermapbox": [
           {
            "marker": {
             "colorbar": {
              "outlinewidth": 0,
              "ticks": ""
             }
            },
            "type": "scattermapbox"
           }
          ],
          "scatterpolar": [
           {
            "marker": {
             "colorbar": {
              "outlinewidth": 0,
              "ticks": ""
             }
            },
            "type": "scatterpolar"
           }
          ],
          "scatterpolargl": [
           {
            "marker": {
             "colorbar": {
              "outlinewidth": 0,
              "ticks": ""
             }
            },
            "type": "scatterpolargl"
           }
          ],
          "scatterternary": [
           {
            "marker": {
             "colorbar": {
              "outlinewidth": 0,
              "ticks": ""
             }
            },
            "type": "scatterternary"
           }
          ],
          "surface": [
           {
            "colorbar": {
             "outlinewidth": 0,
             "ticks": ""
            },
            "colorscale": [
             [
              0,
              "#0d0887"
             ],
             [
              0.1111111111111111,
              "#46039f"
             ],
             [
              0.2222222222222222,
              "#7201a8"
             ],
             [
              0.3333333333333333,
              "#9c179e"
             ],
             [
              0.4444444444444444,
              "#bd3786"
             ],
             [
              0.5555555555555556,
              "#d8576b"
             ],
             [
              0.6666666666666666,
              "#ed7953"
             ],
             [
              0.7777777777777778,
              "#fb9f3a"
             ],
             [
              0.8888888888888888,
              "#fdca26"
             ],
             [
              1,
              "#f0f921"
             ]
            ],
            "type": "surface"
           }
          ],
          "table": [
           {
            "cells": {
             "fill": {
              "color": "#EBF0F8"
             },
             "line": {
              "color": "white"
             }
            },
            "header": {
             "fill": {
              "color": "#C8D4E3"
             },
             "line": {
              "color": "white"
             }
            },
            "type": "table"
           }
          ]
         },
         "layout": {
          "annotationdefaults": {
           "arrowcolor": "#2a3f5f",
           "arrowhead": 0,
           "arrowwidth": 1
          },
          "autotypenumbers": "strict",
          "coloraxis": {
           "colorbar": {
            "outlinewidth": 0,
            "ticks": ""
           }
          },
          "colorscale": {
           "diverging": [
            [
             0,
             "#8e0152"
            ],
            [
             0.1,
             "#c51b7d"
            ],
            [
             0.2,
             "#de77ae"
            ],
            [
             0.3,
             "#f1b6da"
            ],
            [
             0.4,
             "#fde0ef"
            ],
            [
             0.5,
             "#f7f7f7"
            ],
            [
             0.6,
             "#e6f5d0"
            ],
            [
             0.7,
             "#b8e186"
            ],
            [
             0.8,
             "#7fbc41"
            ],
            [
             0.9,
             "#4d9221"
            ],
            [
             1,
             "#276419"
            ]
           ],
           "sequential": [
            [
             0,
             "#0d0887"
            ],
            [
             0.1111111111111111,
             "#46039f"
            ],
            [
             0.2222222222222222,
             "#7201a8"
            ],
            [
             0.3333333333333333,
             "#9c179e"
            ],
            [
             0.4444444444444444,
             "#bd3786"
            ],
            [
             0.5555555555555556,
             "#d8576b"
            ],
            [
             0.6666666666666666,
             "#ed7953"
            ],
            [
             0.7777777777777778,
             "#fb9f3a"
            ],
            [
             0.8888888888888888,
             "#fdca26"
            ],
            [
             1,
             "#f0f921"
            ]
           ],
           "sequentialminus": [
            [
             0,
             "#0d0887"
            ],
            [
             0.1111111111111111,
             "#46039f"
            ],
            [
             0.2222222222222222,
             "#7201a8"
            ],
            [
             0.3333333333333333,
             "#9c179e"
            ],
            [
             0.4444444444444444,
             "#bd3786"
            ],
            [
             0.5555555555555556,
             "#d8576b"
            ],
            [
             0.6666666666666666,
             "#ed7953"
            ],
            [
             0.7777777777777778,
             "#fb9f3a"
            ],
            [
             0.8888888888888888,
             "#fdca26"
            ],
            [
             1,
             "#f0f921"
            ]
           ]
          },
          "colorway": [
           "#636efa",
           "#EF553B",
           "#00cc96",
           "#ab63fa",
           "#FFA15A",
           "#19d3f3",
           "#FF6692",
           "#B6E880",
           "#FF97FF",
           "#FECB52"
          ],
          "font": {
           "color": "#2a3f5f"
          },
          "geo": {
           "bgcolor": "white",
           "lakecolor": "white",
           "landcolor": "#E5ECF6",
           "showlakes": true,
           "showland": true,
           "subunitcolor": "white"
          },
          "hoverlabel": {
           "align": "left"
          },
          "hovermode": "closest",
          "mapbox": {
           "style": "light"
          },
          "paper_bgcolor": "white",
          "plot_bgcolor": "#E5ECF6",
          "polar": {
           "angularaxis": {
            "gridcolor": "white",
            "linecolor": "white",
            "ticks": ""
           },
           "bgcolor": "#E5ECF6",
           "radialaxis": {
            "gridcolor": "white",
            "linecolor": "white",
            "ticks": ""
           }
          },
          "scene": {
           "xaxis": {
            "backgroundcolor": "#E5ECF6",
            "gridcolor": "white",
            "gridwidth": 2,
            "linecolor": "white",
            "showbackground": true,
            "ticks": "",
            "zerolinecolor": "white"
           },
           "yaxis": {
            "backgroundcolor": "#E5ECF6",
            "gridcolor": "white",
            "gridwidth": 2,
            "linecolor": "white",
            "showbackground": true,
            "ticks": "",
            "zerolinecolor": "white"
           },
           "zaxis": {
            "backgroundcolor": "#E5ECF6",
            "gridcolor": "white",
            "gridwidth": 2,
            "linecolor": "white",
            "showbackground": true,
            "ticks": "",
            "zerolinecolor": "white"
           }
          },
          "shapedefaults": {
           "line": {
            "color": "#2a3f5f"
           }
          },
          "ternary": {
           "aaxis": {
            "gridcolor": "white",
            "linecolor": "white",
            "ticks": ""
           },
           "baxis": {
            "gridcolor": "white",
            "linecolor": "white",
            "ticks": ""
           },
           "bgcolor": "#E5ECF6",
           "caxis": {
            "gridcolor": "white",
            "linecolor": "white",
            "ticks": ""
           }
          },
          "title": {
           "x": 0.05
          },
          "xaxis": {
           "automargin": true,
           "gridcolor": "white",
           "linecolor": "white",
           "ticks": "",
           "title": {
            "standoff": 15
           },
           "zerolinecolor": "white",
           "zerolinewidth": 2
          },
          "yaxis": {
           "automargin": true,
           "gridcolor": "white",
           "linecolor": "white",
           "ticks": "",
           "title": {
            "standoff": 15
           },
           "zerolinecolor": "white",
           "zerolinewidth": 2
          }
         }
        },
        "title": {
         "text": "Top 6 solar panel technologies by average efficiency performance",
         "x": 0.5,
         "xanchor": "center",
         "yanchor": "top"
        },
        "width": 1200,
        "xaxis": {
         "anchor": "y",
         "domain": [
          0,
          1
         ],
         "title": {
          "text": "Solar Panel Technology"
         }
        },
        "yaxis": {
         "anchor": "x",
         "domain": [
          0,
          1
         ],
         "title": {
          "text": "Panel Efficiency"
         }
        }
       }
      }
     },
     "metadata": {},
     "output_type": "display_data"
    }
   ],
   "source": [
    "# Group by 'Technology' and calculate the mean 'Panel_Efficiency' for each technology\n",
    "# Sort the results in descending order of efficiency and select the top 6 technologies\n",
    "mask_df1 = df.groupby('Technology', as_index=False).agg({'Panel_Efficiency': 'mean'}).sort_values('Panel_Efficiency', ascending=False).head(6)\n",
    "\n",
    "# Create a new column 'Category_eff' that categorizes technologies:\n",
    "# If the technology is in the top 6, keep its name; otherwise, label it as \"Other\"\n",
    "df[\"Category_eff\"] = df[\"Technology\"].apply(lambda x: x if x in mask_df1[\"Technology\"].values else \"Other\")\n",
    "\n",
    "# Group by 'Category_eff' and calculate the mean 'Panel_Efficiency' for each category\n",
    "fig_data = df.groupby('Category_eff', as_index=False).agg({'Panel_Efficiency': 'mean'})\n",
    "\n",
    "# Create a bar chart using the grouped data\n",
    "fig = px.bar(\n",
    "    fig_data,\n",
    "    x=\"Category_eff\",  # Set the x-axis to the technology categories\n",
    "    y=\"Panel_Efficiency\",  # Set the y-axis to the average efficiency\n",
    "    title=\"Top 6 solar panel technologies by average efficiency performance\",  # Chart title\n",
    "    labels={\"Category_eff\": \"Solar Panel Technology\", \"Panel_Efficiency\": \"Panel Efficiency\"},  # Axis labels\n",
    "    text=fig_data[\"Panel_Efficiency\"].apply(lambda x: f\"{x:.2f}%\")  # Format bar text to 2 decimal places\n",
    ")\n",
    "\n",
    "# Customize the bar colors and text position\n",
    "fig.update_traces(marker_color=\"orange\", textposition=\"outside\")\n",
    "\n",
    "# Adjust layout: center the title, set background color to white, and define chart dimensions\n",
    "fig.update_layout(\n",
    "    title={\n",
    "        \"x\": 0.5,  # Center the title\n",
    "        \"xanchor\": \"center\",\n",
    "        \"yanchor\": \"top\"\n",
    "    },\n",
    "    plot_bgcolor=\"white\",  # Set background color to white\n",
    "    width=1200,  # Chart width\n",
    "    height=700   # Chart height\n",
    ")\n",
    "\n",
    "# Display the chart\n",
    "fig.show()"
   ]
  },
  {
   "cell_type": "code",
   "execution_count": 24,
   "metadata": {},
   "outputs": [
    {
     "data": {
      "application/vnd.plotly.v1+json": {
       "config": {
        "plotlyServerURL": "https://plot.ly"
       },
       "data": [
        {
         "alignmentgroup": "True",
         "hovertemplate": "Solar Panel Technology=%{x}<br>Maximum Power (Pmax)=%{y}<br>text=%{text}<extra></extra>",
         "legendgroup": "",
         "marker": {
          "color": "orange",
          "pattern": {
           "shape": ""
          }
         },
         "name": "",
         "offsetgroup": "",
         "orientation": "v",
         "showlegend": false,
         "text": [
          "678.33Wp",
          "647.73Wp",
          "595.00Wp",
          "582.14Wp",
          "580.00Wp",
          "565.00Wp",
          "463.35Wp"
         ],
         "textposition": "outside",
         "type": "bar",
         "x": [
          "HJT, Bifacial",
          "Bifacial, HJT",
          "PERC, TOPCon, N-type",
          "Bifacial, N-type",
          "Bifacial, PERC, TOPCon, N-type",
          "HJT, TOPCon",
          "Other"
         ],
         "xaxis": "x",
         "y": [
          678.3333333333334,
          647.7272727272727,
          595,
          582.1428571428571,
          580,
          565,
          463.3549798387097
         ],
         "yaxis": "y"
        }
       ],
       "layout": {
        "barmode": "relative",
        "height": 700,
        "legend": {
         "tracegroupgap": 0
        },
        "plot_bgcolor": "white",
        "template": {
         "data": {
          "bar": [
           {
            "error_x": {
             "color": "#2a3f5f"
            },
            "error_y": {
             "color": "#2a3f5f"
            },
            "marker": {
             "line": {
              "color": "#E5ECF6",
              "width": 0.5
             },
             "pattern": {
              "fillmode": "overlay",
              "size": 10,
              "solidity": 0.2
             }
            },
            "type": "bar"
           }
          ],
          "barpolar": [
           {
            "marker": {
             "line": {
              "color": "#E5ECF6",
              "width": 0.5
             },
             "pattern": {
              "fillmode": "overlay",
              "size": 10,
              "solidity": 0.2
             }
            },
            "type": "barpolar"
           }
          ],
          "carpet": [
           {
            "aaxis": {
             "endlinecolor": "#2a3f5f",
             "gridcolor": "white",
             "linecolor": "white",
             "minorgridcolor": "white",
             "startlinecolor": "#2a3f5f"
            },
            "baxis": {
             "endlinecolor": "#2a3f5f",
             "gridcolor": "white",
             "linecolor": "white",
             "minorgridcolor": "white",
             "startlinecolor": "#2a3f5f"
            },
            "type": "carpet"
           }
          ],
          "choropleth": [
           {
            "colorbar": {
             "outlinewidth": 0,
             "ticks": ""
            },
            "type": "choropleth"
           }
          ],
          "contour": [
           {
            "colorbar": {
             "outlinewidth": 0,
             "ticks": ""
            },
            "colorscale": [
             [
              0,
              "#0d0887"
             ],
             [
              0.1111111111111111,
              "#46039f"
             ],
             [
              0.2222222222222222,
              "#7201a8"
             ],
             [
              0.3333333333333333,
              "#9c179e"
             ],
             [
              0.4444444444444444,
              "#bd3786"
             ],
             [
              0.5555555555555556,
              "#d8576b"
             ],
             [
              0.6666666666666666,
              "#ed7953"
             ],
             [
              0.7777777777777778,
              "#fb9f3a"
             ],
             [
              0.8888888888888888,
              "#fdca26"
             ],
             [
              1,
              "#f0f921"
             ]
            ],
            "type": "contour"
           }
          ],
          "contourcarpet": [
           {
            "colorbar": {
             "outlinewidth": 0,
             "ticks": ""
            },
            "type": "contourcarpet"
           }
          ],
          "heatmap": [
           {
            "colorbar": {
             "outlinewidth": 0,
             "ticks": ""
            },
            "colorscale": [
             [
              0,
              "#0d0887"
             ],
             [
              0.1111111111111111,
              "#46039f"
             ],
             [
              0.2222222222222222,
              "#7201a8"
             ],
             [
              0.3333333333333333,
              "#9c179e"
             ],
             [
              0.4444444444444444,
              "#bd3786"
             ],
             [
              0.5555555555555556,
              "#d8576b"
             ],
             [
              0.6666666666666666,
              "#ed7953"
             ],
             [
              0.7777777777777778,
              "#fb9f3a"
             ],
             [
              0.8888888888888888,
              "#fdca26"
             ],
             [
              1,
              "#f0f921"
             ]
            ],
            "type": "heatmap"
           }
          ],
          "heatmapgl": [
           {
            "colorbar": {
             "outlinewidth": 0,
             "ticks": ""
            },
            "colorscale": [
             [
              0,
              "#0d0887"
             ],
             [
              0.1111111111111111,
              "#46039f"
             ],
             [
              0.2222222222222222,
              "#7201a8"
             ],
             [
              0.3333333333333333,
              "#9c179e"
             ],
             [
              0.4444444444444444,
              "#bd3786"
             ],
             [
              0.5555555555555556,
              "#d8576b"
             ],
             [
              0.6666666666666666,
              "#ed7953"
             ],
             [
              0.7777777777777778,
              "#fb9f3a"
             ],
             [
              0.8888888888888888,
              "#fdca26"
             ],
             [
              1,
              "#f0f921"
             ]
            ],
            "type": "heatmapgl"
           }
          ],
          "histogram": [
           {
            "marker": {
             "pattern": {
              "fillmode": "overlay",
              "size": 10,
              "solidity": 0.2
             }
            },
            "type": "histogram"
           }
          ],
          "histogram2d": [
           {
            "colorbar": {
             "outlinewidth": 0,
             "ticks": ""
            },
            "colorscale": [
             [
              0,
              "#0d0887"
             ],
             [
              0.1111111111111111,
              "#46039f"
             ],
             [
              0.2222222222222222,
              "#7201a8"
             ],
             [
              0.3333333333333333,
              "#9c179e"
             ],
             [
              0.4444444444444444,
              "#bd3786"
             ],
             [
              0.5555555555555556,
              "#d8576b"
             ],
             [
              0.6666666666666666,
              "#ed7953"
             ],
             [
              0.7777777777777778,
              "#fb9f3a"
             ],
             [
              0.8888888888888888,
              "#fdca26"
             ],
             [
              1,
              "#f0f921"
             ]
            ],
            "type": "histogram2d"
           }
          ],
          "histogram2dcontour": [
           {
            "colorbar": {
             "outlinewidth": 0,
             "ticks": ""
            },
            "colorscale": [
             [
              0,
              "#0d0887"
             ],
             [
              0.1111111111111111,
              "#46039f"
             ],
             [
              0.2222222222222222,
              "#7201a8"
             ],
             [
              0.3333333333333333,
              "#9c179e"
             ],
             [
              0.4444444444444444,
              "#bd3786"
             ],
             [
              0.5555555555555556,
              "#d8576b"
             ],
             [
              0.6666666666666666,
              "#ed7953"
             ],
             [
              0.7777777777777778,
              "#fb9f3a"
             ],
             [
              0.8888888888888888,
              "#fdca26"
             ],
             [
              1,
              "#f0f921"
             ]
            ],
            "type": "histogram2dcontour"
           }
          ],
          "mesh3d": [
           {
            "colorbar": {
             "outlinewidth": 0,
             "ticks": ""
            },
            "type": "mesh3d"
           }
          ],
          "parcoords": [
           {
            "line": {
             "colorbar": {
              "outlinewidth": 0,
              "ticks": ""
             }
            },
            "type": "parcoords"
           }
          ],
          "pie": [
           {
            "automargin": true,
            "type": "pie"
           }
          ],
          "scatter": [
           {
            "fillpattern": {
             "fillmode": "overlay",
             "size": 10,
             "solidity": 0.2
            },
            "type": "scatter"
           }
          ],
          "scatter3d": [
           {
            "line": {
             "colorbar": {
              "outlinewidth": 0,
              "ticks": ""
             }
            },
            "marker": {
             "colorbar": {
              "outlinewidth": 0,
              "ticks": ""
             }
            },
            "type": "scatter3d"
           }
          ],
          "scattercarpet": [
           {
            "marker": {
             "colorbar": {
              "outlinewidth": 0,
              "ticks": ""
             }
            },
            "type": "scattercarpet"
           }
          ],
          "scattergeo": [
           {
            "marker": {
             "colorbar": {
              "outlinewidth": 0,
              "ticks": ""
             }
            },
            "type": "scattergeo"
           }
          ],
          "scattergl": [
           {
            "marker": {
             "colorbar": {
              "outlinewidth": 0,
              "ticks": ""
             }
            },
            "type": "scattergl"
           }
          ],
          "scattermapbox": [
           {
            "marker": {
             "colorbar": {
              "outlinewidth": 0,
              "ticks": ""
             }
            },
            "type": "scattermapbox"
           }
          ],
          "scatterpolar": [
           {
            "marker": {
             "colorbar": {
              "outlinewidth": 0,
              "ticks": ""
             }
            },
            "type": "scatterpolar"
           }
          ],
          "scatterpolargl": [
           {
            "marker": {
             "colorbar": {
              "outlinewidth": 0,
              "ticks": ""
             }
            },
            "type": "scatterpolargl"
           }
          ],
          "scatterternary": [
           {
            "marker": {
             "colorbar": {
              "outlinewidth": 0,
              "ticks": ""
             }
            },
            "type": "scatterternary"
           }
          ],
          "surface": [
           {
            "colorbar": {
             "outlinewidth": 0,
             "ticks": ""
            },
            "colorscale": [
             [
              0,
              "#0d0887"
             ],
             [
              0.1111111111111111,
              "#46039f"
             ],
             [
              0.2222222222222222,
              "#7201a8"
             ],
             [
              0.3333333333333333,
              "#9c179e"
             ],
             [
              0.4444444444444444,
              "#bd3786"
             ],
             [
              0.5555555555555556,
              "#d8576b"
             ],
             [
              0.6666666666666666,
              "#ed7953"
             ],
             [
              0.7777777777777778,
              "#fb9f3a"
             ],
             [
              0.8888888888888888,
              "#fdca26"
             ],
             [
              1,
              "#f0f921"
             ]
            ],
            "type": "surface"
           }
          ],
          "table": [
           {
            "cells": {
             "fill": {
              "color": "#EBF0F8"
             },
             "line": {
              "color": "white"
             }
            },
            "header": {
             "fill": {
              "color": "#C8D4E3"
             },
             "line": {
              "color": "white"
             }
            },
            "type": "table"
           }
          ]
         },
         "layout": {
          "annotationdefaults": {
           "arrowcolor": "#2a3f5f",
           "arrowhead": 0,
           "arrowwidth": 1
          },
          "autotypenumbers": "strict",
          "coloraxis": {
           "colorbar": {
            "outlinewidth": 0,
            "ticks": ""
           }
          },
          "colorscale": {
           "diverging": [
            [
             0,
             "#8e0152"
            ],
            [
             0.1,
             "#c51b7d"
            ],
            [
             0.2,
             "#de77ae"
            ],
            [
             0.3,
             "#f1b6da"
            ],
            [
             0.4,
             "#fde0ef"
            ],
            [
             0.5,
             "#f7f7f7"
            ],
            [
             0.6,
             "#e6f5d0"
            ],
            [
             0.7,
             "#b8e186"
            ],
            [
             0.8,
             "#7fbc41"
            ],
            [
             0.9,
             "#4d9221"
            ],
            [
             1,
             "#276419"
            ]
           ],
           "sequential": [
            [
             0,
             "#0d0887"
            ],
            [
             0.1111111111111111,
             "#46039f"
            ],
            [
             0.2222222222222222,
             "#7201a8"
            ],
            [
             0.3333333333333333,
             "#9c179e"
            ],
            [
             0.4444444444444444,
             "#bd3786"
            ],
            [
             0.5555555555555556,
             "#d8576b"
            ],
            [
             0.6666666666666666,
             "#ed7953"
            ],
            [
             0.7777777777777778,
             "#fb9f3a"
            ],
            [
             0.8888888888888888,
             "#fdca26"
            ],
            [
             1,
             "#f0f921"
            ]
           ],
           "sequentialminus": [
            [
             0,
             "#0d0887"
            ],
            [
             0.1111111111111111,
             "#46039f"
            ],
            [
             0.2222222222222222,
             "#7201a8"
            ],
            [
             0.3333333333333333,
             "#9c179e"
            ],
            [
             0.4444444444444444,
             "#bd3786"
            ],
            [
             0.5555555555555556,
             "#d8576b"
            ],
            [
             0.6666666666666666,
             "#ed7953"
            ],
            [
             0.7777777777777778,
             "#fb9f3a"
            ],
            [
             0.8888888888888888,
             "#fdca26"
            ],
            [
             1,
             "#f0f921"
            ]
           ]
          },
          "colorway": [
           "#636efa",
           "#EF553B",
           "#00cc96",
           "#ab63fa",
           "#FFA15A",
           "#19d3f3",
           "#FF6692",
           "#B6E880",
           "#FF97FF",
           "#FECB52"
          ],
          "font": {
           "color": "#2a3f5f"
          },
          "geo": {
           "bgcolor": "white",
           "lakecolor": "white",
           "landcolor": "#E5ECF6",
           "showlakes": true,
           "showland": true,
           "subunitcolor": "white"
          },
          "hoverlabel": {
           "align": "left"
          },
          "hovermode": "closest",
          "mapbox": {
           "style": "light"
          },
          "paper_bgcolor": "white",
          "plot_bgcolor": "#E5ECF6",
          "polar": {
           "angularaxis": {
            "gridcolor": "white",
            "linecolor": "white",
            "ticks": ""
           },
           "bgcolor": "#E5ECF6",
           "radialaxis": {
            "gridcolor": "white",
            "linecolor": "white",
            "ticks": ""
           }
          },
          "scene": {
           "xaxis": {
            "backgroundcolor": "#E5ECF6",
            "gridcolor": "white",
            "gridwidth": 2,
            "linecolor": "white",
            "showbackground": true,
            "ticks": "",
            "zerolinecolor": "white"
           },
           "yaxis": {
            "backgroundcolor": "#E5ECF6",
            "gridcolor": "white",
            "gridwidth": 2,
            "linecolor": "white",
            "showbackground": true,
            "ticks": "",
            "zerolinecolor": "white"
           },
           "zaxis": {
            "backgroundcolor": "#E5ECF6",
            "gridcolor": "white",
            "gridwidth": 2,
            "linecolor": "white",
            "showbackground": true,
            "ticks": "",
            "zerolinecolor": "white"
           }
          },
          "shapedefaults": {
           "line": {
            "color": "#2a3f5f"
           }
          },
          "ternary": {
           "aaxis": {
            "gridcolor": "white",
            "linecolor": "white",
            "ticks": ""
           },
           "baxis": {
            "gridcolor": "white",
            "linecolor": "white",
            "ticks": ""
           },
           "bgcolor": "#E5ECF6",
           "caxis": {
            "gridcolor": "white",
            "linecolor": "white",
            "ticks": ""
           }
          },
          "title": {
           "x": 0.05
          },
          "xaxis": {
           "automargin": true,
           "gridcolor": "white",
           "linecolor": "white",
           "ticks": "",
           "title": {
            "standoff": 15
           },
           "zerolinecolor": "white",
           "zerolinewidth": 2
          },
          "yaxis": {
           "automargin": true,
           "gridcolor": "white",
           "linecolor": "white",
           "ticks": "",
           "title": {
            "standoff": 15
           },
           "zerolinecolor": "white",
           "zerolinewidth": 2
          }
         }
        },
        "title": {
         "text": "Top 6 solar panel technologies by maximum power",
         "x": 0.5,
         "xanchor": "center",
         "yanchor": "top"
        },
        "width": 1200,
        "xaxis": {
         "anchor": "y",
         "domain": [
          0,
          1
         ],
         "title": {
          "text": "Solar Panel Technology"
         }
        },
        "yaxis": {
         "anchor": "x",
         "domain": [
          0,
          1
         ],
         "title": {
          "text": "Maximum Power (Pmax)"
         }
        }
       }
      }
     },
     "metadata": {},
     "output_type": "display_data"
    }
   ],
   "source": [
    "# Group by 'Technology' and calculate the mean 'Maximum_Power(Pmax)' for each technology\n",
    "# Sort the results in descending order of power and select the top 6 technologies\n",
    "mask_df2 = df.groupby('Technology', as_index=False).agg({'Maximum_Power(Pmax)': 'mean'}).sort_values('Maximum_Power(Pmax)', ascending=False).head(6)\n",
    "\n",
    "# Create a new column 'Category_pow' that categorizes technologies:\n",
    "# If the technology is in the top 6, keep its name; otherwise, label it as \"Other\"\n",
    "df[\"Category_pow\"] = df[\"Technology\"].apply(lambda x: x if x in mask_df2[\"Technology\"].values else \"Other\")\n",
    "\n",
    "# Group by 'Category_pow' and calculate the mean 'Maximum_Power(Pmax)' for each category\n",
    "fig_data2 = df.groupby('Category_pow', as_index=False).agg({'Maximum_Power(Pmax)': 'mean'}).sort_values('Maximum_Power(Pmax)', ascending=False)\n",
    "\n",
    "# Display the grouped data (for debugging or inspection purposes)\n",
    "fig_data2\n",
    "\n",
    "# Create a bar chart using the grouped data\n",
    "fig2 = px.bar(\n",
    "    fig_data2,\n",
    "    x=\"Category_pow\",  # Set the x-axis to the technology categories\n",
    "    y=\"Maximum_Power(Pmax)\",  # Set the y-axis to the average maximum power\n",
    "    title=\"Top 6 solar panel technologies by maximum power\",  # Chart title\n",
    "    labels={\"Category_pow\": \"Solar Panel Technology\", \"Maximum_Power(Pmax)\": \"Maximum Power (Pmax)\"},  # Axis labels\n",
    "    text=fig_data2[\"Maximum_Power(Pmax)\"].apply(lambda x: f\"{x:.2f}Wp\")  # Format bar text to 2 decimal places\n",
    ")\n",
    "\n",
    "# Customize the bar colors and text position\n",
    "fig2.update_traces(marker_color=\"orange\", textposition=\"outside\")\n",
    "\n",
    "# Adjust layout: center the title, set background color to white, and define chart dimensions\n",
    "fig2.update_layout(\n",
    "    title={\n",
    "        \"x\": 0.5,  # Center the title\n",
    "        \"xanchor\": \"center\",\n",
    "        \"yanchor\": \"top\"\n",
    "    },\n",
    "    plot_bgcolor=\"white\",  # Set background color to white\n",
    "    width=1200,  # Chart width\n",
    "    height=700   # Chart height\n",
    ")\n",
    "\n",
    "# Display the chart\n",
    "fig2.show()"
   ]
  },
  {
   "cell_type": "code",
   "execution_count": 25,
   "metadata": {},
   "outputs": [
    {
     "data": {
      "application/vnd.plotly.v1+json": {
       "config": {
        "plotlyServerURL": "https://plot.ly"
       },
       "data": [
        {
         "alignmentgroup": "True",
         "bingroup": "x",
         "hovertemplate": "Price($/Wp)=%{x}<br>count=%{y}<extra></extra>",
         "legendgroup": "",
         "marker": {
          "color": "orange",
          "pattern": {
           "shape": ""
          }
         },
         "name": "",
         "nbinsx": 20,
         "offsetgroup": "",
         "orientation": "v",
         "showlegend": false,
         "type": "histogram",
         "x": [
          0.0844,
          0.083,
          0.1,
          0.069,
          0.23,
          0.092,
          0.0815,
          0.124,
          0.157,
          0.0794,
          0.12,
          0.0911,
          0.0738,
          0.105,
          0.0959,
          0.0765,
          0.85,
          0.0911,
          0.815,
          0.1,
          0.107,
          0.105,
          0.146,
          0.275,
          0.083,
          0.119,
          0.09,
          0.0636,
          0.0828,
          0.0901,
          0.0908,
          0.0767,
          0.0993,
          0.086,
          0.176,
          0.0755,
          0.115,
          0.123,
          0.0949,
          0.0995,
          0.12,
          0.1,
          0.0719,
          0.0863,
          0.0709,
          0.102,
          0.105,
          0.105,
          0.0972,
          0.0826,
          0.0457,
          0.0796,
          0.0527,
          0.105,
          0.0527,
          0.0636,
          0.0997,
          0.0463,
          0.097,
          0.0867,
          0.0863,
          0.085,
          0.0671,
          0.0949,
          0.0813,
          0.192,
          0.0527,
          0.1,
          0.094,
          0.104,
          0.0671,
          0.101,
          0.159,
          0.101,
          0.0623,
          0.0853,
          0.0671,
          0.109,
          0.0677,
          0.0767,
          0.105,
          0.0805,
          0.173,
          0.288,
          0.104,
          0.0863,
          0.0767,
          0.0846,
          0.0867,
          0.094,
          0.0863,
          0.0959,
          0.23,
          0.0959,
          0.11,
          0.1,
          0.105,
          0.0863,
          0.0863,
          0.106,
          0.0844,
          0.0738,
          0.273,
          0.0999,
          0.102,
          0.101,
          0.125,
          0.0646,
          0.0757,
          0.198,
          0.12,
          0.1,
          0.0863,
          0.0709,
          0.1,
          0.0815,
          0.0691,
          0.0959,
          0.079,
          0.075,
          0.0959,
          0.85,
          0.0411,
          0.145,
          0.15,
          0.24,
          0.4,
          0.125,
          0.2,
          0.105,
          0.111,
          0.0543,
          0.31,
          1.13,
          0.116,
          0.0907,
          0.26,
          0.11,
          0.142,
          0.0541,
          0.104,
          0.11,
          0.45,
          0.097,
          0.118,
          0.11,
          0.125,
          0.0857,
          0.27,
          0.21,
          0.1,
          0.16,
          0.0911,
          0.12,
          0.136,
          0.12,
          0.145,
          0.075,
          0.113,
          1.13,
          0.1,
          0.097,
          0.26,
          0.86,
          0.167,
          0.11,
          0.105,
          0.093,
          0.0887,
          0.897,
          0.125,
          0.0911,
          1.13,
          0.11,
          0.0238,
          0.101,
          0.12,
          0.102,
          0.105,
          0.6,
          0.125,
          0.0928,
          0.125,
          0.26,
          0.11,
          0.107,
          0.0863,
          0.0897,
          0.12,
          0.1,
          0.12,
          0.0911,
          1.02,
          0.0496,
          0.094,
          0.26,
          0.86,
          0.32,
          0.86,
          0.557,
          0.396,
          0.672,
          0.1,
          0.528,
          0.15,
          0.12,
          0.087,
          0.11,
          0.0897,
          0.101,
          0.531,
          0.145,
          0.0973,
          0.105,
          0.1,
          0.15,
          0.0979,
          0.123,
          0.125,
          0.15,
          0.09,
          0.105,
          0.113,
          0.125,
          0.107,
          0.113,
          0.0966,
          0.109,
          0.11,
          0.26,
          0.095,
          0.0905,
          0.0942,
          0.136,
          0.26,
          0.702,
          0.14,
          0.136,
          0.12,
          0.26,
          0.11,
          0.12,
          0.104,
          0.101,
          0.082,
          0.12,
          0.088,
          0.112,
          0.118,
          0.146,
          0.156,
          0.549,
          0.065,
          0.12,
          0.136,
          0.0918,
          0.1,
          0.104,
          0.075,
          0.11,
          0.96,
          0.698,
          0.104,
          0.0953,
          0.075,
          0.0887,
          0.86,
          0.094,
          0.093,
          0.107,
          0.104,
          0.125,
          0.12,
          0.097,
          0.96,
          0.96,
          0.0458,
          0.118,
          0.113,
          0.198,
          0.146,
          0.11,
          0.075,
          0.095,
          0.11,
          0.637,
          0.125,
          0.26,
          0.11,
          0.125,
          0.113,
          0.125,
          0.204,
          0.109,
          0.084,
          0.26,
          0.0887,
          0.553,
          0.219,
          0.0887,
          0.137,
          0.0855,
          0.075,
          0.143,
          0.12,
          0.156,
          0.09,
          0.074,
          0.0911,
          0.136,
          0.555,
          0.96,
          0.1,
          0.0863,
          0.075,
          0.136,
          0.26,
          0.13,
          0.511,
          0.1,
          0.0866,
          0.0959,
          0.55,
          0.887,
          0.1,
          0.11,
          0.0905,
          0.086,
          0.0959,
          0.075,
          0.116,
          0.099,
          0.0855,
          0.08,
          0.085,
          0.1,
          0.22,
          0.0834,
          0.0973,
          0.28,
          0.09,
          0.0435,
          0.55,
          0.1,
          0.075,
          0.12,
          0.081,
          0.11,
          0.1,
          0.0877,
          0.125,
          0.1,
          0.099,
          0.12,
          0.11,
          0.095,
          0.55,
          0.086,
          0.101,
          0.26,
          0.0905,
          0.09,
          0.12,
          0.46,
          0.0905,
          0.084,
          0.55,
          0.12,
          0.095,
          0.0932,
          0.156,
          0.12,
          0.136,
          0.501,
          0.115,
          0.5,
          0.46,
          0.11,
          0.084,
          0.96,
          0.11,
          0.052,
          0.55,
          0.0887,
          0.092,
          0.085,
          0.0959,
          0.0905,
          0.0897,
          0.4,
          0.09,
          0.13,
          0.102,
          0.0905,
          0.052,
          0.095,
          0.504,
          0.26,
          0.0905,
          0.075,
          0.0877,
          0.09,
          0.56,
          0.088,
          0.12,
          0.0905,
          0.1,
          0.11,
          0.09,
          0.564,
          0.12,
          0.12,
          0.887,
          0.0822,
          0.075,
          0.28,
          0.075,
          0.065,
          0.55,
          0.12,
          0.075,
          0.1,
          0.11,
          0.075,
          0.00143,
          0.1,
          0.11,
          0.081,
          0.085,
          0.0946,
          0.0891,
          0.0918,
          0.18,
          0.4,
          0.0863,
          0.121,
          0.078,
          0.099,
          0.1,
          0.26,
          0.46,
          0.0834,
          0.000245,
          0.219,
          0.18,
          0.075,
          0.1,
          0.11,
          0.1,
          0.0905,
          0.075,
          0.0863,
          0.11,
          0.11,
          0.055,
          0.2,
          0.0876,
          0.4,
          0.0824,
          0.096,
          0.077,
          0.12,
          0.085,
          0.099,
          0.151,
          0.099,
          0.0876,
          0.137,
          0.075,
          0.077,
          0.1,
          0.11,
          0.11,
          0.075,
          0.918,
          0.0928,
          0.081,
          0.4,
          0.09,
          0.092,
          0.0863,
          0.0822,
          0.088,
          0.085,
          0.46,
          0.1,
          0.0809,
          0.075,
          0.0809,
          0.1,
          0.1,
          0.12,
          0.0897,
          0.12,
          0.00083,
          0.11,
          0.46,
          0.887,
          0.1,
          0.078,
          0.0824,
          0.11,
          0.095,
          0.075,
          0.08,
          0.0809,
          0.4,
          0.0855,
          0.46,
          0.075,
          0.078,
          0.089,
          0.12,
          0.0973,
          0.063,
          0.0876,
          0.08,
          0.11,
          0.206,
          0.061
         ],
         "xaxis": "x",
         "yaxis": "y"
        }
       ],
       "layout": {
        "barmode": "relative",
        "height": 700,
        "legend": {
         "tracegroupgap": 0
        },
        "plot_bgcolor": "white",
        "template": {
         "data": {
          "bar": [
           {
            "error_x": {
             "color": "#2a3f5f"
            },
            "error_y": {
             "color": "#2a3f5f"
            },
            "marker": {
             "line": {
              "color": "#E5ECF6",
              "width": 0.5
             },
             "pattern": {
              "fillmode": "overlay",
              "size": 10,
              "solidity": 0.2
             }
            },
            "type": "bar"
           }
          ],
          "barpolar": [
           {
            "marker": {
             "line": {
              "color": "#E5ECF6",
              "width": 0.5
             },
             "pattern": {
              "fillmode": "overlay",
              "size": 10,
              "solidity": 0.2
             }
            },
            "type": "barpolar"
           }
          ],
          "carpet": [
           {
            "aaxis": {
             "endlinecolor": "#2a3f5f",
             "gridcolor": "white",
             "linecolor": "white",
             "minorgridcolor": "white",
             "startlinecolor": "#2a3f5f"
            },
            "baxis": {
             "endlinecolor": "#2a3f5f",
             "gridcolor": "white",
             "linecolor": "white",
             "minorgridcolor": "white",
             "startlinecolor": "#2a3f5f"
            },
            "type": "carpet"
           }
          ],
          "choropleth": [
           {
            "colorbar": {
             "outlinewidth": 0,
             "ticks": ""
            },
            "type": "choropleth"
           }
          ],
          "contour": [
           {
            "colorbar": {
             "outlinewidth": 0,
             "ticks": ""
            },
            "colorscale": [
             [
              0,
              "#0d0887"
             ],
             [
              0.1111111111111111,
              "#46039f"
             ],
             [
              0.2222222222222222,
              "#7201a8"
             ],
             [
              0.3333333333333333,
              "#9c179e"
             ],
             [
              0.4444444444444444,
              "#bd3786"
             ],
             [
              0.5555555555555556,
              "#d8576b"
             ],
             [
              0.6666666666666666,
              "#ed7953"
             ],
             [
              0.7777777777777778,
              "#fb9f3a"
             ],
             [
              0.8888888888888888,
              "#fdca26"
             ],
             [
              1,
              "#f0f921"
             ]
            ],
            "type": "contour"
           }
          ],
          "contourcarpet": [
           {
            "colorbar": {
             "outlinewidth": 0,
             "ticks": ""
            },
            "type": "contourcarpet"
           }
          ],
          "heatmap": [
           {
            "colorbar": {
             "outlinewidth": 0,
             "ticks": ""
            },
            "colorscale": [
             [
              0,
              "#0d0887"
             ],
             [
              0.1111111111111111,
              "#46039f"
             ],
             [
              0.2222222222222222,
              "#7201a8"
             ],
             [
              0.3333333333333333,
              "#9c179e"
             ],
             [
              0.4444444444444444,
              "#bd3786"
             ],
             [
              0.5555555555555556,
              "#d8576b"
             ],
             [
              0.6666666666666666,
              "#ed7953"
             ],
             [
              0.7777777777777778,
              "#fb9f3a"
             ],
             [
              0.8888888888888888,
              "#fdca26"
             ],
             [
              1,
              "#f0f921"
             ]
            ],
            "type": "heatmap"
           }
          ],
          "heatmapgl": [
           {
            "colorbar": {
             "outlinewidth": 0,
             "ticks": ""
            },
            "colorscale": [
             [
              0,
              "#0d0887"
             ],
             [
              0.1111111111111111,
              "#46039f"
             ],
             [
              0.2222222222222222,
              "#7201a8"
             ],
             [
              0.3333333333333333,
              "#9c179e"
             ],
             [
              0.4444444444444444,
              "#bd3786"
             ],
             [
              0.5555555555555556,
              "#d8576b"
             ],
             [
              0.6666666666666666,
              "#ed7953"
             ],
             [
              0.7777777777777778,
              "#fb9f3a"
             ],
             [
              0.8888888888888888,
              "#fdca26"
             ],
             [
              1,
              "#f0f921"
             ]
            ],
            "type": "heatmapgl"
           }
          ],
          "histogram": [
           {
            "marker": {
             "pattern": {
              "fillmode": "overlay",
              "size": 10,
              "solidity": 0.2
             }
            },
            "type": "histogram"
           }
          ],
          "histogram2d": [
           {
            "colorbar": {
             "outlinewidth": 0,
             "ticks": ""
            },
            "colorscale": [
             [
              0,
              "#0d0887"
             ],
             [
              0.1111111111111111,
              "#46039f"
             ],
             [
              0.2222222222222222,
              "#7201a8"
             ],
             [
              0.3333333333333333,
              "#9c179e"
             ],
             [
              0.4444444444444444,
              "#bd3786"
             ],
             [
              0.5555555555555556,
              "#d8576b"
             ],
             [
              0.6666666666666666,
              "#ed7953"
             ],
             [
              0.7777777777777778,
              "#fb9f3a"
             ],
             [
              0.8888888888888888,
              "#fdca26"
             ],
             [
              1,
              "#f0f921"
             ]
            ],
            "type": "histogram2d"
           }
          ],
          "histogram2dcontour": [
           {
            "colorbar": {
             "outlinewidth": 0,
             "ticks": ""
            },
            "colorscale": [
             [
              0,
              "#0d0887"
             ],
             [
              0.1111111111111111,
              "#46039f"
             ],
             [
              0.2222222222222222,
              "#7201a8"
             ],
             [
              0.3333333333333333,
              "#9c179e"
             ],
             [
              0.4444444444444444,
              "#bd3786"
             ],
             [
              0.5555555555555556,
              "#d8576b"
             ],
             [
              0.6666666666666666,
              "#ed7953"
             ],
             [
              0.7777777777777778,
              "#fb9f3a"
             ],
             [
              0.8888888888888888,
              "#fdca26"
             ],
             [
              1,
              "#f0f921"
             ]
            ],
            "type": "histogram2dcontour"
           }
          ],
          "mesh3d": [
           {
            "colorbar": {
             "outlinewidth": 0,
             "ticks": ""
            },
            "type": "mesh3d"
           }
          ],
          "parcoords": [
           {
            "line": {
             "colorbar": {
              "outlinewidth": 0,
              "ticks": ""
             }
            },
            "type": "parcoords"
           }
          ],
          "pie": [
           {
            "automargin": true,
            "type": "pie"
           }
          ],
          "scatter": [
           {
            "fillpattern": {
             "fillmode": "overlay",
             "size": 10,
             "solidity": 0.2
            },
            "type": "scatter"
           }
          ],
          "scatter3d": [
           {
            "line": {
             "colorbar": {
              "outlinewidth": 0,
              "ticks": ""
             }
            },
            "marker": {
             "colorbar": {
              "outlinewidth": 0,
              "ticks": ""
             }
            },
            "type": "scatter3d"
           }
          ],
          "scattercarpet": [
           {
            "marker": {
             "colorbar": {
              "outlinewidth": 0,
              "ticks": ""
             }
            },
            "type": "scattercarpet"
           }
          ],
          "scattergeo": [
           {
            "marker": {
             "colorbar": {
              "outlinewidth": 0,
              "ticks": ""
             }
            },
            "type": "scattergeo"
           }
          ],
          "scattergl": [
           {
            "marker": {
             "colorbar": {
              "outlinewidth": 0,
              "ticks": ""
             }
            },
            "type": "scattergl"
           }
          ],
          "scattermapbox": [
           {
            "marker": {
             "colorbar": {
              "outlinewidth": 0,
              "ticks": ""
             }
            },
            "type": "scattermapbox"
           }
          ],
          "scatterpolar": [
           {
            "marker": {
             "colorbar": {
              "outlinewidth": 0,
              "ticks": ""
             }
            },
            "type": "scatterpolar"
           }
          ],
          "scatterpolargl": [
           {
            "marker": {
             "colorbar": {
              "outlinewidth": 0,
              "ticks": ""
             }
            },
            "type": "scatterpolargl"
           }
          ],
          "scatterternary": [
           {
            "marker": {
             "colorbar": {
              "outlinewidth": 0,
              "ticks": ""
             }
            },
            "type": "scatterternary"
           }
          ],
          "surface": [
           {
            "colorbar": {
             "outlinewidth": 0,
             "ticks": ""
            },
            "colorscale": [
             [
              0,
              "#0d0887"
             ],
             [
              0.1111111111111111,
              "#46039f"
             ],
             [
              0.2222222222222222,
              "#7201a8"
             ],
             [
              0.3333333333333333,
              "#9c179e"
             ],
             [
              0.4444444444444444,
              "#bd3786"
             ],
             [
              0.5555555555555556,
              "#d8576b"
             ],
             [
              0.6666666666666666,
              "#ed7953"
             ],
             [
              0.7777777777777778,
              "#fb9f3a"
             ],
             [
              0.8888888888888888,
              "#fdca26"
             ],
             [
              1,
              "#f0f921"
             ]
            ],
            "type": "surface"
           }
          ],
          "table": [
           {
            "cells": {
             "fill": {
              "color": "#EBF0F8"
             },
             "line": {
              "color": "white"
             }
            },
            "header": {
             "fill": {
              "color": "#C8D4E3"
             },
             "line": {
              "color": "white"
             }
            },
            "type": "table"
           }
          ]
         },
         "layout": {
          "annotationdefaults": {
           "arrowcolor": "#2a3f5f",
           "arrowhead": 0,
           "arrowwidth": 1
          },
          "autotypenumbers": "strict",
          "coloraxis": {
           "colorbar": {
            "outlinewidth": 0,
            "ticks": ""
           }
          },
          "colorscale": {
           "diverging": [
            [
             0,
             "#8e0152"
            ],
            [
             0.1,
             "#c51b7d"
            ],
            [
             0.2,
             "#de77ae"
            ],
            [
             0.3,
             "#f1b6da"
            ],
            [
             0.4,
             "#fde0ef"
            ],
            [
             0.5,
             "#f7f7f7"
            ],
            [
             0.6,
             "#e6f5d0"
            ],
            [
             0.7,
             "#b8e186"
            ],
            [
             0.8,
             "#7fbc41"
            ],
            [
             0.9,
             "#4d9221"
            ],
            [
             1,
             "#276419"
            ]
           ],
           "sequential": [
            [
             0,
             "#0d0887"
            ],
            [
             0.1111111111111111,
             "#46039f"
            ],
            [
             0.2222222222222222,
             "#7201a8"
            ],
            [
             0.3333333333333333,
             "#9c179e"
            ],
            [
             0.4444444444444444,
             "#bd3786"
            ],
            [
             0.5555555555555556,
             "#d8576b"
            ],
            [
             0.6666666666666666,
             "#ed7953"
            ],
            [
             0.7777777777777778,
             "#fb9f3a"
            ],
            [
             0.8888888888888888,
             "#fdca26"
            ],
            [
             1,
             "#f0f921"
            ]
           ],
           "sequentialminus": [
            [
             0,
             "#0d0887"
            ],
            [
             0.1111111111111111,
             "#46039f"
            ],
            [
             0.2222222222222222,
             "#7201a8"
            ],
            [
             0.3333333333333333,
             "#9c179e"
            ],
            [
             0.4444444444444444,
             "#bd3786"
            ],
            [
             0.5555555555555556,
             "#d8576b"
            ],
            [
             0.6666666666666666,
             "#ed7953"
            ],
            [
             0.7777777777777778,
             "#fb9f3a"
            ],
            [
             0.8888888888888888,
             "#fdca26"
            ],
            [
             1,
             "#f0f921"
            ]
           ]
          },
          "colorway": [
           "#636efa",
           "#EF553B",
           "#00cc96",
           "#ab63fa",
           "#FFA15A",
           "#19d3f3",
           "#FF6692",
           "#B6E880",
           "#FF97FF",
           "#FECB52"
          ],
          "font": {
           "color": "#2a3f5f"
          },
          "geo": {
           "bgcolor": "white",
           "lakecolor": "white",
           "landcolor": "#E5ECF6",
           "showlakes": true,
           "showland": true,
           "subunitcolor": "white"
          },
          "hoverlabel": {
           "align": "left"
          },
          "hovermode": "closest",
          "mapbox": {
           "style": "light"
          },
          "paper_bgcolor": "white",
          "plot_bgcolor": "#E5ECF6",
          "polar": {
           "angularaxis": {
            "gridcolor": "white",
            "linecolor": "white",
            "ticks": ""
           },
           "bgcolor": "#E5ECF6",
           "radialaxis": {
            "gridcolor": "white",
            "linecolor": "white",
            "ticks": ""
           }
          },
          "scene": {
           "xaxis": {
            "backgroundcolor": "#E5ECF6",
            "gridcolor": "white",
            "gridwidth": 2,
            "linecolor": "white",
            "showbackground": true,
            "ticks": "",
            "zerolinecolor": "white"
           },
           "yaxis": {
            "backgroundcolor": "#E5ECF6",
            "gridcolor": "white",
            "gridwidth": 2,
            "linecolor": "white",
            "showbackground": true,
            "ticks": "",
            "zerolinecolor": "white"
           },
           "zaxis": {
            "backgroundcolor": "#E5ECF6",
            "gridcolor": "white",
            "gridwidth": 2,
            "linecolor": "white",
            "showbackground": true,
            "ticks": "",
            "zerolinecolor": "white"
           }
          },
          "shapedefaults": {
           "line": {
            "color": "#2a3f5f"
           }
          },
          "ternary": {
           "aaxis": {
            "gridcolor": "white",
            "linecolor": "white",
            "ticks": ""
           },
           "baxis": {
            "gridcolor": "white",
            "linecolor": "white",
            "ticks": ""
           },
           "bgcolor": "#E5ECF6",
           "caxis": {
            "gridcolor": "white",
            "linecolor": "white",
            "ticks": ""
           }
          },
          "title": {
           "x": 0.05
          },
          "xaxis": {
           "automargin": true,
           "gridcolor": "white",
           "linecolor": "white",
           "ticks": "",
           "title": {
            "standoff": 15
           },
           "zerolinecolor": "white",
           "zerolinewidth": 2
          },
          "yaxis": {
           "automargin": true,
           "gridcolor": "white",
           "linecolor": "white",
           "ticks": "",
           "title": {
            "standoff": 15
           },
           "zerolinecolor": "white",
           "zerolinewidth": 2
          }
         }
        },
        "title": {
         "text": "Frequency Distribution of Maximum Power (Pmax)",
         "x": 0.5,
         "xanchor": "center",
         "yanchor": "top"
        },
        "width": 1200,
        "xaxis": {
         "anchor": "y",
         "domain": [
          0,
          1
         ],
         "title": {
          "text": "Price($/Wp)"
         }
        },
        "yaxis": {
         "anchor": "x",
         "domain": [
          0,
          1
         ],
         "title": {
          "text": "count"
         }
        }
       }
      }
     },
     "metadata": {},
     "output_type": "display_data"
    }
   ],
   "source": [
    "# Create a histogram for Maximum Power (Pmax) variable\n",
    "fig3 = px.histogram(\n",
    "    df,\n",
    "    x=\"Price($/Wp)\",\n",
    "    title=\"Frequency Distribution of Maximum Power (Pmax)\",\n",
    "    labels={\"Maximum Power (Pmax)\": \"Maximum Power (Wp)\", \"count\": \"Frequency\"},\n",
    "    nbins=20  # Number of bins\n",
    ")\n",
    "\n",
    "# Customize layout\n",
    "fig3.update_traces(marker_color=\"orange\")\n",
    "fig3.update_layout(\n",
    "    title={\n",
    "        \"x\": 0.5,\n",
    "        \"text\": \"Frequency Distribution of Maximum Power (Pmax)\",\n",
    "        \"x\": 0.5,  # Center the title\n",
    "        \"xanchor\": \"center\",\n",
    "        \"yanchor\": \"top\"\n",
    "    },\n",
    "    plot_bgcolor=\"white\",  # Set background color to white\n",
    "    width=1200,  # Make the chart larger\n",
    "    height=700\n",
    ")\n",
    "\n",
    "fig3.show()"
   ]
  }
 ],
 "metadata": {
  "kernelspec": {
   "display_name": "C2",
   "language": "python",
   "name": "python3"
  },
  "language_info": {
   "codemirror_mode": {
    "name": "ipython",
    "version": 3
   },
   "file_extension": ".py",
   "mimetype": "text/x-python",
   "name": "python",
   "nbconvert_exporter": "python",
   "pygments_lexer": "ipython3",
   "version": "3.12.7"
  }
 },
 "nbformat": 4,
 "nbformat_minor": 2
}
